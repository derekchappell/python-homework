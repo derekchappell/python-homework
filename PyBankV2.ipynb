{
 "cells": [
  {
   "cell_type": "code",
   "execution_count": 1,
   "metadata": {},
   "outputs": [],
   "source": [
    "import csv\n",
    "import os"
   ]
  },
  {
   "cell_type": "code",
   "execution_count": 2,
   "metadata": {},
   "outputs": [],
   "source": [
    "csvpath = os.path.join(\"Homework_02-Python.csv\")"
   ]
  },
  {
   "cell_type": "code",
   "execution_count": 2,
   "metadata": {},
   "outputs": [],
   "source": [
    "Month_Count = []\n",
    "Profit_Loses = []\n",
    "Average_Change = []"
   ]
  },
  {
   "cell_type": "code",
   "execution_count": 40,
   "metadata": {},
   "outputs": [],
   "source": [
    "with open(csvpath, \"r\") as bank:\n",
    "    reader = csv.reader(bank, delimiter = \",\")\n",
    "    data = list(reader)\n",
    "    Month_Count = len(data)"
   ]
  },
  {
   "cell_type": "code",
   "execution_count": 42,
   "metadata": {},
   "outputs": [
    {
     "name": "stdout",
     "output_type": "stream",
     "text": [
      "86\n"
     ]
    }
   ],
   "source": [
    "print((Month_Count)-1)"
   ]
  },
  {
   "cell_type": "code",
   "execution_count": 66,
   "metadata": {},
   "outputs": [],
   "source": [
    "Profit_Loses = []\n",
    "with open(csvpath, \"r\") as bank2:\n",
    "    reader = csv.reader(bank2, delimiter=',')\n",
    "    header = next(reader)\n",
    "    for row in reader:\n",
    "        Profit_Loses.append(row[1])\n",
    "for i in range(0, len(Profit_Loses)):\n",
    "    Profit_Loses[i] = int(Profit_Loses[i])"
   ]
  },
  {
   "cell_type": "code",
   "execution_count": 68,
   "metadata": {},
   "outputs": [
    {
     "name": "stdout",
     "output_type": "stream",
     "text": [
      "38382578\n"
     ]
    }
   ],
   "source": [
    "print(sum(Profit_Loses))"
   ]
  },
  {
   "cell_type": "code",
   "execution_count": 70,
   "metadata": {},
   "outputs": [],
   "source": [
    "Monthly_Change = []\n",
    "for p in range(len(Profit_Loses)-1):\n",
    "    Monthly_Change.append(Profit_Loses[p+1]-Profit_Loses[p])"
   ]
  },
  {
   "cell_type": "code",
   "execution_count": 71,
   "metadata": {},
   "outputs": [
    {
     "name": "stdout",
     "output_type": "stream",
     "text": [
      "[116771, -662642, -391430, 379920, 212354, 510239, -428211, -821271, 693918, 416278, -974163, 860159, -1115009, 1033048, 95318, -308093, 99052, -521393, 605450, 231727, -65187, -702716, 177975, -1065544, 1926159, -917805, 898730, -334262, -246499, -64055, -1529236, 1497596, 304914, -635801, 398319, -183161, -37864, -253689, 403655, 94168, 306877, -83000, 210462, -2196167, 1465222, -956983, 1838447, -468003, -64602, 206242, -242155, -449079, 315198, 241099, 111540, 365942, -219310, -368665, 409837, 151210, -110244, -341938, -1212159, 683246, -70825, 335594, 417334, -272194, -236462, 657432, -211262, -128237, -1750387, 925441, 932089, -311434, 267252, -1876758, 1733696, 198551, -665765, 693229, -734926, 77242, 532869]\n"
     ]
    }
   ],
   "source": [
    "print(Monthly_Change)"
   ]
  },
  {
   "cell_type": "code",
   "execution_count": 126,
   "metadata": {},
   "outputs": [],
   "source": [
    "biggest_increase = max(Monthly_Change)\n",
    "biggest_decrease = min(Monthly_Change)\n",
    "\n",
    "biggest_increase_month = Monthly_Change.index(max(Monthly_Change))\n",
    "biggest_decrease_month = Monthly_Change.index(min(Monthly_Change))"
   ]
  },
  {
   "cell_type": "code",
   "execution_count": 124,
   "metadata": {},
   "outputs": [],
   "source": [
    "Mean = sum(Monthly_Change) / len(Monthly_Change)"
   ]
  },
  {
   "cell_type": "code",
   "execution_count": 140,
   "metadata": {},
   "outputs": [
    {
     "name": "stdout",
     "output_type": "stream",
     "text": [
      "Financial Analysis\n",
      "..................\n",
      "Total Months: 86\n",
      "Total $: 38382578\n",
      "Average Change $-2315.12\n",
      "Greatest Increase in Profits: $1926159\n",
      "Greatest Decrease in Profits: $-2196167\n"
     ]
    }
   ],
   "source": [
    "print('Financial Analysis')\n",
    "print('..................')\n",
    "print(f'Total Months: {(Month_Count)-1}')\n",
    "print(f'Total $: {sum(Profit_Loses)}')\n",
    "print(f'Average Change ${round(Mean, 2)}')\n",
    "print(f'Greatest Increase in Profits: ${biggest_increase}' )\n",
    "print(f'Greatest Decrease in Profits: ${biggest_decrease}' )"
   ]
  },
  {
   "cell_type": "code",
   "execution_count": null,
   "metadata": {},
   "outputs": [],
   "source": []
  }
 ],
 "metadata": {
  "kernelspec": {
   "display_name": "Python 3",
   "language": "python",
   "name": "python3"
  },
  "language_info": {
   "codemirror_mode": {
    "name": "ipython",
    "version": 3
   },
   "file_extension": ".py",
   "mimetype": "text/x-python",
   "name": "python",
   "nbconvert_exporter": "python",
   "pygments_lexer": "ipython3",
   "version": "3.7.6"
  }
 },
 "nbformat": 4,
 "nbformat_minor": 4
}
